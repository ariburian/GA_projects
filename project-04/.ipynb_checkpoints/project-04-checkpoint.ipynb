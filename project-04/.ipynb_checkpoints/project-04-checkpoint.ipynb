{
 "cells": [
  {
   "cell_type": "code",
   "execution_count": 1,
   "metadata": {
    "collapsed": false
   },
   "outputs": [
    {
     "name": "stderr",
     "output_type": "stream",
     "text": [
      "/Users/ariburian/anaconda2/lib/python2.7/site-packages/sklearn/cross_validation.py:44: DeprecationWarning: This module was deprecated in version 0.18 in favor of the model_selection module into which all the refactored classes and functions are moved. Also note that the interface of the new CV iterators are different from that of this module. This module will be removed in 0.20.\n",
      "  \"This module will be removed in 0.20.\", DeprecationWarning)\n",
      "/Users/ariburian/anaconda2/lib/python2.7/site-packages/sklearn/grid_search.py:43: DeprecationWarning: This module was deprecated in version 0.18 in favor of the model_selection module into which all the refactored classes and functions are moved. This module will be removed in 0.20.\n",
      "  DeprecationWarning)\n"
     ]
    }
   ],
   "source": [
    "import numpy as np\n",
    "import pandas as pd\n",
    "import matplotlib.pyplot as plt\n",
    "%matplotlib inline\n",
    "from sklearn.neighbors import KNeighborsClassifier\n",
    "from sklearn.preprocessing import StandardScaler\n",
    "from sklearn.model_selection import train_test_split,cross_val_score, cross_val_predict\n",
    "import seaborn as sns\n",
    "from sklearn.linear_model import LogisticRegression\n",
    "from sklearn.grid_search import GridSearchCV"
   ]
  },
  {
   "cell_type": "code",
   "execution_count": 2,
   "metadata": {
    "collapsed": false
   },
   "outputs": [],
   "source": [
    "filename='housing.csv'\n",
    "df=pd.read_csv(filename)\n"
   ]
  },
  {
   "cell_type": "code",
   "execution_count": 3,
   "metadata": {
    "collapsed": false
   },
   "outputs": [
    {
     "name": "stdout",
     "output_type": "stream",
     "text": [
      "Index([u'address', u'bed_bath', u'more_info', u'price', u'status',\n",
      "       u'zip_code'],\n",
      "      dtype='object')\n",
      "<type 'str'>\n",
      "False    7188\n",
      "True      280\n",
      "Name: address, dtype: int64\n",
      "<type 'str'>\n",
      "False    7188\n",
      "True      280\n",
      "Name: bed_bath, dtype: int64\n",
      "<type 'str'>\n",
      "False    7188\n",
      "True      280\n",
      "Name: more_info, dtype: int64\n",
      "<type 'str'>\n",
      "False    4926\n",
      "True     2542\n",
      "Name: price, dtype: int64\n",
      "<type 'str'>\n",
      "False    7188\n",
      "True      280\n",
      "Name: status, dtype: int64\n",
      "<type 'str'>\n",
      "False    7468\n",
      "Name: zip_code, dtype: int64\n"
     ]
    }
   ],
   "source": [
    "print df.columns\n",
    "for column in df.columns:\n",
    "    print type(column)\n",
    "    print df[column].isnull().value_counts()"
   ]
  },
  {
   "cell_type": "markdown",
   "metadata": {},
   "source": [
    "address, bed_bath, more_info, and status each have 280 null cells.\n",
    "price has 2542 null cells.\n",
    "zip_code has 0 null cells."
   ]
  },
  {
   "cell_type": "code",
   "execution_count": 4,
   "metadata": {
    "collapsed": false
   },
   "outputs": [
    {
     "name": "stdout",
     "output_type": "stream",
     "text": [
      "(7468, 6)\n"
     ]
    }
   ],
   "source": [
    "print df.shape"
   ]
  },
  {
   "cell_type": "markdown",
   "metadata": {},
   "source": [
    "2542 rows are missing a price.  Without a price we won't be able to categorize them as 'high' or 'low' price.  Therefore, I will be dropping them from the DataFrame.  Included in these 2542 row are 280 rows missing even more info."
   ]
  },
  {
   "cell_type": "code",
   "execution_count": 5,
   "metadata": {
    "collapsed": false
   },
   "outputs": [],
   "source": [
    "df=df.dropna()\n",
    "\n",
    "# for column in df_no_null_price.columns:\n",
    "#     print type(column)\n",
    "#     print df_no_null_price[column].isnull().value_counts()\n"
   ]
  },
  {
   "cell_type": "code",
   "execution_count": 6,
   "metadata": {
    "collapsed": false
   },
   "outputs": [
    {
     "data": {
      "text/plain": [
       "(4926, 6)"
      ]
     },
     "execution_count": 6,
     "metadata": {},
     "output_type": "execute_result"
    }
   ],
   "source": [
    "df.shape"
   ]
  },
  {
   "cell_type": "markdown",
   "metadata": {},
   "source": [
    "This is a function that will read in the address of each row, ignore the city and state, because they are all Chicago, IL, and then return the house number as an int (if available), and the street direction and street name (if available) as str.  For now, apt #s are being ingored."
   ]
  },
  {
   "cell_type": "code",
   "execution_count": 30,
   "metadata": {
    "collapsed": false
   },
   "outputs": [],
   "source": [
    "def clean_address(value,counter):\n",
    "    value=value.split(',')\n",
    "    address=value[0]\n",
    "    address=address.split(' ')\n",
    "#     try:\n",
    "#         address[0]=int(address[0])\n",
    "#     except:\n",
    "    address[0]=address[0].replace('-','')\n",
    "    address[0]=address[0].replace('(Undisclosed','0')\n",
    "    address[0]=address[0].replace('South','0')\n",
    "    address[0]=address[0].replace('Rose','0')\n",
    "    address[0]=address[0].replace('14th','0')\n",
    "    address[0]=address[0].replace('The','0')\n",
    "    address[0]=address[0].replace('Buckingham','0')\n",
    "    address[0]=address[0].replace('W','0')\n",
    "    address[0]=address[0].replace('Dobson','0')\n",
    "    address[0]=address[0].replace('S','0')\n",
    "    address[0]=address[0].replace('6441A','0')\n",
    "    address[0]=address[0].replace('N','0')\n",
    "    address[0]=address[0].replace('0haw','0')\n",
    "    address[0]=address[0].replace('Dickinson','0')\n",
    "    address[0]=address[0].replace('Longfellow','0')\n",
    "    address[0]=address[0].replace('Kipling','0')\n",
    "    address[0]=address[0].replace('Paine','0')\n",
    "    address[0]=address[0].replace('0ordsworth','0')\n",
    "    address[0]=address[0].replace('Unit','0')\n",
    "    address[0]=address[0].replace('5926.5','0')\n",
    "    address[0]=address[0].replace('Wood','0')\n",
    "    address[0]=int(address[0])\n",
    "#     st_direction=address[1]\n",
    "#     street=None\n",
    "    if(counter==2):\n",
    "        if(len(address)>2):\n",
    "            return address[2]\n",
    "        else:\n",
    "            return None\n",
    "    return address[counter]"
   ]
  },
  {
   "cell_type": "code",
   "execution_count": 31,
   "metadata": {
    "collapsed": false
   },
   "outputs": [],
   "source": [
    "df['house_num']=df['address'].apply(lambda x: clean_address(x,0))\n",
    "df['st_direction']=df['address'].apply(lambda x: clean_address(x,1))\n",
    "df['street']=df['address'].apply(lambda x: clean_address(x,2))\n"
   ]
  },
  {
   "cell_type": "code",
   "execution_count": 32,
   "metadata": {
    "collapsed": false
   },
   "outputs": [
    {
     "data": {
      "text/html": [
       "<div>\n",
       "<table border=\"1\" class=\"dataframe\">\n",
       "  <thead>\n",
       "    <tr style=\"text-align: right;\">\n",
       "      <th></th>\n",
       "      <th>address</th>\n",
       "      <th>bed_bath</th>\n",
       "      <th>more_info</th>\n",
       "      <th>price</th>\n",
       "      <th>status</th>\n",
       "      <th>zip_code</th>\n",
       "      <th>house_num</th>\n",
       "      <th>st_direction</th>\n",
       "      <th>street</th>\n",
       "      <th>beds</th>\n",
       "      <th>...</th>\n",
       "      <th>Condo For Sale</th>\n",
       "      <th>For Sale by Owner</th>\n",
       "      <th>Foreclosure</th>\n",
       "      <th>House For Sale</th>\n",
       "      <th>Lot/Land For Sale</th>\n",
       "      <th>Make Me Move®</th>\n",
       "      <th>New Construction</th>\n",
       "      <th>Townhouse For Sale</th>\n",
       "      <th>pp_sqft</th>\n",
       "      <th>is_high</th>\n",
       "    </tr>\n",
       "  </thead>\n",
       "  <tbody>\n",
       "    <tr>\n",
       "      <th>0</th>\n",
       "      <td>360 E Randolph St # 601-602, Chicago, IL</td>\n",
       "      <td>3 bds · 4 ba · 2,700 sqft</td>\n",
       "      <td>http://www.zillow.com/homedetails/360-E-Randol...</td>\n",
       "      <td>$1,299,000</td>\n",
       "      <td>Condo For Sale</td>\n",
       "      <td>60601.0</td>\n",
       "      <td>360</td>\n",
       "      <td>E</td>\n",
       "      <td>Randolph</td>\n",
       "      <td>3.0</td>\n",
       "      <td>...</td>\n",
       "      <td>1</td>\n",
       "      <td>0</td>\n",
       "      <td>0</td>\n",
       "      <td>0</td>\n",
       "      <td>0</td>\n",
       "      <td>0</td>\n",
       "      <td>0</td>\n",
       "      <td>0</td>\n",
       "      <td>481.111111</td>\n",
       "      <td>1</td>\n",
       "    </tr>\n",
       "    <tr>\n",
       "      <th>1</th>\n",
       "      <td>8 E Randolph St UNIT 1006, Chicago, IL</td>\n",
       "      <td>1 bd · 1 ba · 850 sqft</td>\n",
       "      <td>http://www.zillow.com/homedetails/8-E-Randolph...</td>\n",
       "      <td>$324,900</td>\n",
       "      <td>Condo For Sale</td>\n",
       "      <td>60601.0</td>\n",
       "      <td>8</td>\n",
       "      <td>E</td>\n",
       "      <td>Randolph</td>\n",
       "      <td>1.0</td>\n",
       "      <td>...</td>\n",
       "      <td>1</td>\n",
       "      <td>0</td>\n",
       "      <td>0</td>\n",
       "      <td>0</td>\n",
       "      <td>0</td>\n",
       "      <td>0</td>\n",
       "      <td>0</td>\n",
       "      <td>0</td>\n",
       "      <td>382.235294</td>\n",
       "      <td>1</td>\n",
       "    </tr>\n",
       "    <tr>\n",
       "      <th>3</th>\n",
       "      <td>340 E Randolph St APT 704, Chicago, IL</td>\n",
       "      <td>2 bds · 3 ba · 1,902 sqft</td>\n",
       "      <td>http://www.zillow.com/homedetails/340-E-Randol...</td>\n",
       "      <td>$1,099,000</td>\n",
       "      <td>Condo For Sale</td>\n",
       "      <td>60601.0</td>\n",
       "      <td>340</td>\n",
       "      <td>E</td>\n",
       "      <td>Randolph</td>\n",
       "      <td>2.0</td>\n",
       "      <td>...</td>\n",
       "      <td>1</td>\n",
       "      <td>0</td>\n",
       "      <td>0</td>\n",
       "      <td>0</td>\n",
       "      <td>0</td>\n",
       "      <td>0</td>\n",
       "      <td>0</td>\n",
       "      <td>0</td>\n",
       "      <td>577.812829</td>\n",
       "      <td>1</td>\n",
       "    </tr>\n",
       "    <tr>\n",
       "      <th>4</th>\n",
       "      <td>420 E Waterside Dr UNIT 310, Chicago, IL</td>\n",
       "      <td>2 bds · 3 ba · 1,500 sqft</td>\n",
       "      <td>http://www.zillow.com/homedetails/420-E-Waters...</td>\n",
       "      <td>$567,770</td>\n",
       "      <td>Condo For Sale</td>\n",
       "      <td>60601.0</td>\n",
       "      <td>420</td>\n",
       "      <td>E</td>\n",
       "      <td>Waterside</td>\n",
       "      <td>2.0</td>\n",
       "      <td>...</td>\n",
       "      <td>1</td>\n",
       "      <td>0</td>\n",
       "      <td>0</td>\n",
       "      <td>0</td>\n",
       "      <td>0</td>\n",
       "      <td>0</td>\n",
       "      <td>0</td>\n",
       "      <td>0</td>\n",
       "      <td>378.513333</td>\n",
       "      <td>1</td>\n",
       "    </tr>\n",
       "    <tr>\n",
       "      <th>5</th>\n",
       "      <td>155 N Harbor Dr # 1212-13, Chicago, IL</td>\n",
       "      <td>3 bds · 3 ba · 2,367 sqft</td>\n",
       "      <td>http://www.zillow.com/homedetails/155-N-Harbor...</td>\n",
       "      <td>$1,350,000</td>\n",
       "      <td>Condo For Sale</td>\n",
       "      <td>60601.0</td>\n",
       "      <td>155</td>\n",
       "      <td>N</td>\n",
       "      <td>Harbor</td>\n",
       "      <td>3.0</td>\n",
       "      <td>...</td>\n",
       "      <td>1</td>\n",
       "      <td>0</td>\n",
       "      <td>0</td>\n",
       "      <td>0</td>\n",
       "      <td>0</td>\n",
       "      <td>0</td>\n",
       "      <td>0</td>\n",
       "      <td>0</td>\n",
       "      <td>570.342205</td>\n",
       "      <td>1</td>\n",
       "    </tr>\n",
       "  </tbody>\n",
       "</table>\n",
       "<p>5 rows × 27 columns</p>\n",
       "</div>"
      ],
      "text/plain": [
       "                                    address                   bed_bath  \\\n",
       "0  360 E Randolph St # 601-602, Chicago, IL  3 bds · 4 ba · 2,700 sqft   \n",
       "1    8 E Randolph St UNIT 1006, Chicago, IL     1 bd · 1 ba · 850 sqft   \n",
       "3    340 E Randolph St APT 704, Chicago, IL  2 bds · 3 ba · 1,902 sqft   \n",
       "4  420 E Waterside Dr UNIT 310, Chicago, IL  2 bds · 3 ba · 1,500 sqft   \n",
       "5    155 N Harbor Dr # 1212-13, Chicago, IL  3 bds · 3 ba · 2,367 sqft   \n",
       "\n",
       "                                           more_info       price  \\\n",
       "0  http://www.zillow.com/homedetails/360-E-Randol...  $1,299,000   \n",
       "1  http://www.zillow.com/homedetails/8-E-Randolph...    $324,900   \n",
       "3  http://www.zillow.com/homedetails/340-E-Randol...  $1,099,000   \n",
       "4  http://www.zillow.com/homedetails/420-E-Waters...    $567,770   \n",
       "5  http://www.zillow.com/homedetails/155-N-Harbor...  $1,350,000   \n",
       "\n",
       "           status  zip_code  house_num st_direction     street  beds   ...     \\\n",
       "0  Condo For Sale   60601.0        360            E   Randolph   3.0   ...      \n",
       "1  Condo For Sale   60601.0          8            E   Randolph   1.0   ...      \n",
       "3  Condo For Sale   60601.0        340            E   Randolph   2.0   ...      \n",
       "4  Condo For Sale   60601.0        420            E  Waterside   2.0   ...      \n",
       "5  Condo For Sale   60601.0        155            N     Harbor   3.0   ...      \n",
       "\n",
       "   Condo For Sale  For Sale by Owner  Foreclosure  House For Sale  \\\n",
       "0               1                  0            0               0   \n",
       "1               1                  0            0               0   \n",
       "3               1                  0            0               0   \n",
       "4               1                  0            0               0   \n",
       "5               1                  0            0               0   \n",
       "\n",
       "   Lot/Land For Sale  Make Me Move®  New Construction  Townhouse For Sale  \\\n",
       "0                  0              0                 0                   0   \n",
       "1                  0              0                 0                   0   \n",
       "3                  0              0                 0                   0   \n",
       "4                  0              0                 0                   0   \n",
       "5                  0              0                 0                   0   \n",
       "\n",
       "      pp_sqft  is_high  \n",
       "0  481.111111        1  \n",
       "1  382.235294        1  \n",
       "3  577.812829        1  \n",
       "4  378.513333        1  \n",
       "5  570.342205        1  \n",
       "\n",
       "[5 rows x 27 columns]"
      ]
     },
     "execution_count": 32,
     "metadata": {},
     "output_type": "execute_result"
    }
   ],
   "source": [
    "df.head()\n"
   ]
  },
  {
   "cell_type": "markdown",
   "metadata": {},
   "source": [
    "This function will take the bed_bath column and return ints for number of beds, number of baths, and number of square feet.\n"
   ]
  },
  {
   "cell_type": "code",
   "execution_count": 33,
   "metadata": {
    "collapsed": true
   },
   "outputs": [],
   "source": [
    "def clean_bed_bath(value,counter):\n",
    "    value=value.split('·')\n",
    "    beds=value[0].split(' ')\n",
    "    beds=beds[0]\n",
    "    baths=None\n",
    "    sqft=None\n",
    "    if (len(value)>1):\n",
    "        baths=value[1].split(' ')\n",
    "        baths=baths[1]\n",
    "    if (len(value)>2):\n",
    "        sqft=value[2].split(' ')\n",
    "        sqft=sqft[1]\n",
    "        sqft=sqft.replace(',','')\n",
    "        sqft=sqft.replace('--','None')\n",
    "        sqft=sqft.replace('+','')\n",
    " \n",
    "    if (len(beds)==0):\n",
    "        beds='0'\n",
    "    if not baths:\n",
    "        baths='0'\n",
    "#     if not sqft:\n",
    "#         sqft=None\n",
    "    beds=beds.replace(\"Studio\",'0')\n",
    "    beds=beds.replace('--','0')\n",
    "    if ',' in beds:\n",
    "        beds='0'\n",
    "    beds=float(beds)\n",
    "    baths=baths.replace('--','0')\n",
    "    baths=float(baths)\n",
    "    \n",
    "    if sqft=='None':\n",
    "        sqft=None\n",
    "    if sqft:\n",
    "        sqft=float(sqft)\n",
    "    if counter==0:\n",
    "        return beds\n",
    "    if counter ==1:\n",
    "        return baths\n",
    "    if counter ==2:\n",
    "        return sqft"
   ]
  },
  {
   "cell_type": "code",
   "execution_count": 34,
   "metadata": {
    "collapsed": false
   },
   "outputs": [],
   "source": [
    "df['beds']=df['bed_bath'].apply(lambda x: clean_bed_bath(x,0))\n",
    "df['baths']=df['bed_bath'].apply(lambda x: clean_bed_bath(x,1))\n",
    "df['sqft']=df['bed_bath'].apply(lambda x: clean_bed_bath(x,2))\n",
    "\n",
    "\n"
   ]
  },
  {
   "cell_type": "code",
   "execution_count": 35,
   "metadata": {
    "collapsed": false
   },
   "outputs": [
    {
     "name": "stdout",
     "output_type": "stream",
     "text": [
      "                                    address                   bed_bath  \\\n",
      "0  360 E Randolph St # 601-602, Chicago, IL  3 bds · 4 ba · 2,700 sqft   \n",
      "1    8 E Randolph St UNIT 1006, Chicago, IL     1 bd · 1 ba · 850 sqft   \n",
      "3    340 E Randolph St APT 704, Chicago, IL  2 bds · 3 ba · 1,902 sqft   \n",
      "4  420 E Waterside Dr UNIT 310, Chicago, IL  2 bds · 3 ba · 1,500 sqft   \n",
      "5    155 N Harbor Dr # 1212-13, Chicago, IL  3 bds · 3 ba · 2,367 sqft   \n",
      "\n",
      "                                           more_info       price  \\\n",
      "0  http://www.zillow.com/homedetails/360-E-Randol...  $1,299,000   \n",
      "1  http://www.zillow.com/homedetails/8-E-Randolph...    $324,900   \n",
      "3  http://www.zillow.com/homedetails/340-E-Randol...  $1,099,000   \n",
      "4  http://www.zillow.com/homedetails/420-E-Waters...    $567,770   \n",
      "5  http://www.zillow.com/homedetails/155-N-Harbor...  $1,350,000   \n",
      "\n",
      "           status  zip_code  house_num st_direction     street  beds   ...     \\\n",
      "0  Condo For Sale   60601.0        360            E   Randolph   3.0   ...      \n",
      "1  Condo For Sale   60601.0          8            E   Randolph   1.0   ...      \n",
      "3  Condo For Sale   60601.0        340            E   Randolph   2.0   ...      \n",
      "4  Condo For Sale   60601.0        420            E  Waterside   2.0   ...      \n",
      "5  Condo For Sale   60601.0        155            N     Harbor   3.0   ...      \n",
      "\n",
      "   Condo For Sale  For Sale by Owner  Foreclosure  House For Sale  \\\n",
      "0               1                  0            0               0   \n",
      "1               1                  0            0               0   \n",
      "3               1                  0            0               0   \n",
      "4               1                  0            0               0   \n",
      "5               1                  0            0               0   \n",
      "\n",
      "   Lot/Land For Sale  Make Me Move®  New Construction  Townhouse For Sale  \\\n",
      "0                  0              0                 0                   0   \n",
      "1                  0              0                 0                   0   \n",
      "3                  0              0                 0                   0   \n",
      "4                  0              0                 0                   0   \n",
      "5                  0              0                 0                   0   \n",
      "\n",
      "      pp_sqft  is_high  \n",
      "0  481.111111        1  \n",
      "1  382.235294        1  \n",
      "3  577.812829        1  \n",
      "4  378.513333        1  \n",
      "5  570.342205        1  \n",
      "\n",
      "[5 rows x 27 columns]\n",
      "               sqft\n",
      "count   3716.000000\n",
      "mean    1804.490850\n",
      "std     1691.030724\n",
      "min        1.000000\n",
      "25%     1060.000000\n",
      "50%     1400.000000\n",
      "75%     2100.000000\n",
      "max    75000.000000\n"
     ]
    }
   ],
   "source": [
    "print df.head()\n",
    "print df[['sqft']].describe()"
   ]
  },
  {
   "cell_type": "markdown",
   "metadata": {},
   "source": [
    "This function will turn the prices from stings into ints"
   ]
  },
  {
   "cell_type": "code",
   "execution_count": 36,
   "metadata": {
    "collapsed": false
   },
   "outputs": [],
   "source": [
    "def clean_price(value):\n",
    "    value=value.replace('$','')\n",
    "    value=value.replace(',','')\n",
    "    value=value.replace('+','')\n",
    "#     if (len(value)>10):\n",
    "#         value=0\n",
    "    if 'K' in value:\n",
    "        value=value.replace('K','')\n",
    "        value=float(value)\n",
    "        value *= 1000\n",
    "        \n",
    "    elif 'M' in value:\n",
    "        value=value.replace('M','')\n",
    "        #value=float(value)\n",
    "        value= float(value) \n",
    "        value *= 1000000\n",
    "        value=float(value)\n",
    "    else:\n",
    "        value=float(value)\n",
    "    return value"
   ]
  },
  {
   "cell_type": "code",
   "execution_count": 37,
   "metadata": {
    "collapsed": false
   },
   "outputs": [],
   "source": [
    "df['int_price']=df['price'].apply(clean_price)\n",
    "\n",
    "# df['zip_code']=df['zip_code'].apply(lambda x: x.mean() if (x==None) else x)\n",
    "# df['house_num']=df['house_num'].apply(lambda x: x.mean() if (x==None) else x)\n",
    "# df['beds']=df['beds'].apply(lambda x: x.mean() if (x==None) else x)\n",
    "# df['baths']=df['baths'].apply(lambda x: x.mean() if (x==None) else x)\n",
    "\n",
    "##I am up to here Friday at 10 am\n",
    "df.loc[df['sqft'].isnull(),'sqft']=df['sqft'].mean()\n",
    "df.loc[df['zip_code'].isnull(),'zip_code']=df['zip_code'].mean()\n",
    "df.loc[df['house_num'].isnull(),'house_num']=df['house_num'].mean()\n",
    "df.loc[df['beds'].isnull(),'beds']=df['beds'].mean()\n",
    "df.loc[df['baths'].isnull(),'baths']=df['baths'].mean()\n",
    "df.loc[df['int_price'].isnull(),'int_price']=df['int_price'].mean()\n",
    "\n",
    "\n",
    "\n",
    "# df.loc['sqft'][df.sqft.isnull()]=df['sqft'].apply(lambda x: df['sqft'].mean() if (x==np.nan) else x)\n",
    "\n",
    "\n",
    "# df['int_price']=df['int_price'].apply(lambda x: x.median() if (x==None) else x)"
   ]
  },
  {
   "cell_type": "code",
   "execution_count": null,
   "metadata": {
    "collapsed": true
   },
   "outputs": [],
   "source": []
  },
  {
   "cell_type": "code",
   "execution_count": 38,
   "metadata": {
    "collapsed": false
   },
   "outputs": [
    {
     "name": "stdout",
     "output_type": "stream",
     "text": [
      "1804.49085038\n",
      "0       2700.00000\n",
      "1        850.00000\n",
      "3       1902.00000\n",
      "4       1500.00000\n",
      "5       2367.00000\n",
      "6       1250.00000\n",
      "7       1200.00000\n",
      "8       1547.00000\n",
      "9       1209.00000\n",
      "10       835.00000\n",
      "11      1136.00000\n",
      "12      1067.00000\n",
      "13      1250.00000\n",
      "14      3500.00000\n",
      "15      1348.00000\n",
      "16       700.00000\n",
      "17      1070.00000\n",
      "18       685.00000\n",
      "19       685.00000\n",
      "20       571.00000\n",
      "21      1143.00000\n",
      "22      1950.00000\n",
      "23       685.00000\n",
      "24      1950.00000\n",
      "25       826.00000\n",
      "26       826.00000\n",
      "27      1348.00000\n",
      "28      2002.00000\n",
      "29      1950.00000\n",
      "31      1950.00000\n",
      "           ...    \n",
      "7341     970.00000\n",
      "7342    1804.49085\n",
      "7343    1022.00000\n",
      "7349    1360.00000\n",
      "7350    1804.49085\n",
      "7351     893.00000\n",
      "7352    1152.00000\n",
      "7354     825.00000\n",
      "7355     731.00000\n",
      "7356     891.00000\n",
      "7357     848.00000\n",
      "7359    1487.00000\n",
      "7362    2463.00000\n",
      "7363     700.00000\n",
      "7365     904.00000\n",
      "7367    1243.00000\n",
      "7369    1000.00000\n",
      "7376     800.00000\n",
      "7380     900.00000\n",
      "7385    1044.00000\n",
      "7388    1256.00000\n",
      "7389     925.00000\n",
      "7403    1125.00000\n",
      "7432    4687.00000\n",
      "7439    1775.00000\n",
      "7441     910.00000\n",
      "7446    1804.49085\n",
      "7447    1191.00000\n",
      "7459    1181.00000\n",
      "7460    1804.49085\n",
      "Name: sqft, dtype: float64\n"
     ]
    }
   ],
   "source": [
    "# df[df.sqft.isnull()]['sqft'] = df['sqft'].mean()\n",
    "\n",
    "df.loc[df['sqft'].isnull(),'sqft']=df['sqft'].mean()\n",
    "print df['sqft'].mean()\n",
    "print df['sqft']"
   ]
  },
  {
   "cell_type": "code",
   "execution_count": 39,
   "metadata": {
    "collapsed": false
   },
   "outputs": [
    {
     "name": "stdout",
     "output_type": "stream",
     "text": [
      "                                    address                   bed_bath  \\\n",
      "0  360 E Randolph St # 601-602, Chicago, IL  3 bds · 4 ba · 2,700 sqft   \n",
      "1    8 E Randolph St UNIT 1006, Chicago, IL     1 bd · 1 ba · 850 sqft   \n",
      "3    340 E Randolph St APT 704, Chicago, IL  2 bds · 3 ba · 1,902 sqft   \n",
      "4  420 E Waterside Dr UNIT 310, Chicago, IL  2 bds · 3 ba · 1,500 sqft   \n",
      "5    155 N Harbor Dr # 1212-13, Chicago, IL  3 bds · 3 ba · 2,367 sqft   \n",
      "\n",
      "                                           more_info       price  \\\n",
      "0  http://www.zillow.com/homedetails/360-E-Randol...  $1,299,000   \n",
      "1  http://www.zillow.com/homedetails/8-E-Randolph...    $324,900   \n",
      "3  http://www.zillow.com/homedetails/340-E-Randol...  $1,099,000   \n",
      "4  http://www.zillow.com/homedetails/420-E-Waters...    $567,770   \n",
      "5  http://www.zillow.com/homedetails/155-N-Harbor...  $1,350,000   \n",
      "\n",
      "           status  zip_code  house_num st_direction     street  beds   ...     \\\n",
      "0  Condo For Sale   60601.0      360.0            E   Randolph   3.0   ...      \n",
      "1  Condo For Sale   60601.0        8.0            E   Randolph   1.0   ...      \n",
      "3  Condo For Sale   60601.0      340.0            E   Randolph   2.0   ...      \n",
      "4  Condo For Sale   60601.0      420.0            E  Waterside   2.0   ...      \n",
      "5  Condo For Sale   60601.0      155.0            N     Harbor   3.0   ...      \n",
      "\n",
      "   Condo For Sale  For Sale by Owner  Foreclosure  House For Sale  \\\n",
      "0               1                  0            0               0   \n",
      "1               1                  0            0               0   \n",
      "3               1                  0            0               0   \n",
      "4               1                  0            0               0   \n",
      "5               1                  0            0               0   \n",
      "\n",
      "   Lot/Land For Sale  Make Me Move®  New Construction  Townhouse For Sale  \\\n",
      "0                  0              0                 0                   0   \n",
      "1                  0              0                 0                   0   \n",
      "3                  0              0                 0                   0   \n",
      "4                  0              0                 0                   0   \n",
      "5                  0              0                 0                   0   \n",
      "\n",
      "      pp_sqft  is_high  \n",
      "0  481.111111        1  \n",
      "1  382.235294        1  \n",
      "3  577.812829        1  \n",
      "4  378.513333        1  \n",
      "5  570.342205        1  \n",
      "\n",
      "[5 rows x 27 columns]\n",
      "<type 'numpy.float64'>\n"
     ]
    }
   ],
   "source": [
    "print df.head()\n",
    "print type(df['int_price'][0])"
   ]
  },
  {
   "cell_type": "markdown",
   "metadata": {},
   "source": [
    "Next I will use get_dummies to create dummy variables for each possible 'status' for the row."
   ]
  },
  {
   "cell_type": "code",
   "execution_count": 40,
   "metadata": {
    "collapsed": false
   },
   "outputs": [
    {
     "name": "stdout",
     "output_type": "stream",
     "text": [
      "                                    address                   bed_bath  \\\n",
      "0  360 E Randolph St # 601-602, Chicago, IL  3 bds · 4 ba · 2,700 sqft   \n",
      "1    8 E Randolph St UNIT 1006, Chicago, IL     1 bd · 1 ba · 850 sqft   \n",
      "3    340 E Randolph St APT 704, Chicago, IL  2 bds · 3 ba · 1,902 sqft   \n",
      "4  420 E Waterside Dr UNIT 310, Chicago, IL  2 bds · 3 ba · 1,500 sqft   \n",
      "5    155 N Harbor Dr # 1212-13, Chicago, IL  3 bds · 3 ba · 2,367 sqft   \n",
      "\n",
      "                                           more_info       price  \\\n",
      "0  http://www.zillow.com/homedetails/360-E-Randol...  $1,299,000   \n",
      "1  http://www.zillow.com/homedetails/8-E-Randolph...    $324,900   \n",
      "3  http://www.zillow.com/homedetails/340-E-Randol...  $1,099,000   \n",
      "4  http://www.zillow.com/homedetails/420-E-Waters...    $567,770   \n",
      "5  http://www.zillow.com/homedetails/155-N-Harbor...  $1,350,000   \n",
      "\n",
      "           status  zip_code  house_num st_direction     street  beds  \\\n",
      "0  Condo For Sale   60601.0      360.0            E   Randolph   3.0   \n",
      "1  Condo For Sale   60601.0        8.0            E   Randolph   1.0   \n",
      "3  Condo For Sale   60601.0      340.0            E   Randolph   2.0   \n",
      "4  Condo For Sale   60601.0      420.0            E  Waterside   2.0   \n",
      "5  Condo For Sale   60601.0      155.0            N     Harbor   3.0   \n",
      "\n",
      "                ...                 Co-op For Sale_from_dummies  \\\n",
      "0               ...                                           0   \n",
      "1               ...                                           0   \n",
      "3               ...                                           0   \n",
      "4               ...                                           0   \n",
      "5               ...                                           0   \n",
      "\n",
      "   Coming Soon_from_dummies  Condo For Sale_from_dummies  \\\n",
      "0                         0                            1   \n",
      "1                         0                            1   \n",
      "3                         0                            1   \n",
      "4                         0                            1   \n",
      "5                         0                            1   \n",
      "\n",
      "   For Sale by Owner_from_dummies  Foreclosure_from_dummies  \\\n",
      "0                               0                         0   \n",
      "1                               0                         0   \n",
      "3                               0                         0   \n",
      "4                               0                         0   \n",
      "5                               0                         0   \n",
      "\n",
      "   House For Sale_from_dummies  Lot/Land For Sale_from_dummies  \\\n",
      "0                            0                               0   \n",
      "1                            0                               0   \n",
      "3                            0                               0   \n",
      "4                            0                               0   \n",
      "5                            0                               0   \n",
      "\n",
      "   Make Me Move®_from_dummies  New Construction_from_dummies  \\\n",
      "0                           0                              0   \n",
      "1                           0                              0   \n",
      "3                           0                              0   \n",
      "4                           0                              0   \n",
      "5                           0                              0   \n",
      "\n",
      "   Townhouse For Sale_from_dummies  \n",
      "0                                0  \n",
      "1                                0  \n",
      "3                                0  \n",
      "4                                0  \n",
      "5                                0  \n",
      "\n",
      "[5 rows x 39 columns]\n"
     ]
    }
   ],
   "source": [
    "dummies=pd.get_dummies(df['status'])\n",
    "df=df.join(dummies,rsuffix='_from_dummies')\n",
    "print df.head()"
   ]
  },
  {
   "cell_type": "markdown",
   "metadata": {},
   "source": [
    "One last column I want to add is price per square foot (price / sqft)"
   ]
  },
  {
   "cell_type": "code",
   "execution_count": 41,
   "metadata": {
    "collapsed": false
   },
   "outputs": [],
   "source": [
    "# def pp_sqft(price,sqft):\n",
    "#     pp_sqft=price / sqft\n",
    "#     return pp_sqft\n",
    "    \n",
    "\n",
    "\n",
    "# df['pp_sqft']=df['int_price'].apply(lambda x: pp_sqft(x,df['sqft']))\n",
    "df['pp_sqft']=df['int_price'].divide(df['sqft'])\n"
   ]
  },
  {
   "cell_type": "code",
   "execution_count": 42,
   "metadata": {
    "collapsed": false
   },
   "outputs": [
    {
     "name": "stdout",
     "output_type": "stream",
     "text": [
      "   int_price    sqft     pp_sqft\n",
      "0  1299000.0  2700.0  481.111111\n",
      "1   324900.0   850.0  382.235294\n",
      "3  1099000.0  1902.0  577.812829\n",
      "4   567770.0  1500.0  378.513333\n",
      "5  1350000.0  2367.0  570.342205\n"
     ]
    }
   ],
   "source": [
    "print df[['int_price','sqft','pp_sqft']].head()"
   ]
  },
  {
   "cell_type": "markdown",
   "metadata": {},
   "source": [
    "Having a target, df[['pp_sqft']], I will attempt to create a way to categorize each as High_price or Low_price based on the price per square foot.  I will draw a plot to take a look at the data."
   ]
  },
  {
   "cell_type": "code",
   "execution_count": 43,
   "metadata": {
    "collapsed": false
   },
   "outputs": [
    {
     "name": "stdout",
     "output_type": "stream",
     "text": [
      "            pp_sqft\n",
      "count  4.926000e+03\n",
      "mean   2.420684e+03\n",
      "std    3.393069e+04\n",
      "min    5.541729e-01\n",
      "25%    9.445833e+01\n",
      "50%    1.940633e+02\n",
      "75%    3.158245e+02\n",
      "max    1.149000e+06\n"
     ]
    }
   ],
   "source": [
    "print df[['pp_sqft']].describe()"
   ]
  },
  {
   "cell_type": "code",
   "execution_count": 44,
   "metadata": {
    "collapsed": false
   },
   "outputs": [],
   "source": [
    "# target=df[['pp_sqft']].values\n",
    "# fig=plt.figure()\n",
    "# ax=fig.add_subplot(111)\n",
    "# plt.hist(target)\n",
    "# plt.savefig(\"Price_per_sqft.png\")"
   ]
  },
  {
   "cell_type": "code",
   "execution_count": 45,
   "metadata": {
    "collapsed": false
   },
   "outputs": [
    {
     "data": {
      "image/png": "[encoded data removed]",
      "text/plain": [
       "<matplotlib.figure.Figure at 0x115fb1d10>"
      ]
     },
     "metadata": {},
     "output_type": "display_data"
    }
   ],
   "source": [
    "target=df[['pp_sqft']].values\n",
    "\n",
    "#print df['pp_sqft'].isnull().sum()\n",
    "fig=plt.figure()\n",
    "ax=fig.add_subplot(111)\n",
    "ax.hist(target, range=(0,1000))\n",
    "#ax.set_xlim(0,500)\n",
    "#ax.set_ylim(0,100)\n",
    "#plt.hist(target[0:300], bins=100, edgecolor='b')#, width=10)\n",
    "\n",
    "#plt.hist(target)\n",
    "plt.savefig('Price_per_sqft.png')\n",
    "#print target[0:30]\n",
    "\n",
    "\n",
    "#print target[0:300].min()\n",
    "#print target[0:300].mean()\n"
   ]
  },
  {
   "cell_type": "code",
   "execution_count": null,
   "metadata": {
    "collapsed": false
   },
   "outputs": [],
   "source": []
  },
  {
   "cell_type": "code",
   "execution_count": null,
   "metadata": {
    "collapsed": false
   },
   "outputs": [],
   "source": []
  },
  {
   "cell_type": "code",
   "execution_count": 46,
   "metadata": {
    "collapsed": false
   },
   "outputs": [
    {
     "data": {
      "text/html": [
       "<div>\n",
       "<table border=\"1\" class=\"dataframe\">\n",
       "  <thead>\n",
       "    <tr style=\"text-align: right;\">\n",
       "      <th></th>\n",
       "      <th>pp_sqft</th>\n",
       "    </tr>\n",
       "  </thead>\n",
       "  <tbody>\n",
       "    <tr>\n",
       "      <th>count</th>\n",
       "      <td>4.926000e+03</td>\n",
       "    </tr>\n",
       "    <tr>\n",
       "      <th>mean</th>\n",
       "      <td>2.420684e+03</td>\n",
       "    </tr>\n",
       "    <tr>\n",
       "      <th>std</th>\n",
       "      <td>3.393069e+04</td>\n",
       "    </tr>\n",
       "    <tr>\n",
       "      <th>min</th>\n",
       "      <td>5.541729e-01</td>\n",
       "    </tr>\n",
       "    <tr>\n",
       "      <th>25%</th>\n",
       "      <td>9.445833e+01</td>\n",
       "    </tr>\n",
       "    <tr>\n",
       "      <th>50%</th>\n",
       "      <td>1.940633e+02</td>\n",
       "    </tr>\n",
       "    <tr>\n",
       "      <th>75%</th>\n",
       "      <td>3.158245e+02</td>\n",
       "    </tr>\n",
       "    <tr>\n",
       "      <th>max</th>\n",
       "      <td>1.149000e+06</td>\n",
       "    </tr>\n",
       "  </tbody>\n",
       "</table>\n",
       "</div>"
      ],
      "text/plain": [
       "            pp_sqft\n",
       "count  4.926000e+03\n",
       "mean   2.420684e+03\n",
       "std    3.393069e+04\n",
       "min    5.541729e-01\n",
       "25%    9.445833e+01\n",
       "50%    1.940633e+02\n",
       "75%    3.158245e+02\n",
       "max    1.149000e+06"
      ]
     },
     "execution_count": 46,
     "metadata": {},
     "output_type": "execute_result"
    }
   ],
   "source": [
    "df[['pp_sqft']].describe()\n",
    "#df_target[0].sort_values(ascending=False)\n"
   ]
  },
  {
   "cell_type": "markdown",
   "metadata": {},
   "source": [
    "I will consider anything above the median of $240/sqft as a High cost house, and anything below the median as a Low cost house.  The mean is skewed to the right due to outliers, so median seems to be at a more reasonable cutoff point.  I will add a new column to my data \"is_high\" which will be 1 for High cost and 0 for Low cost."
   ]
  },
  {
   "cell_type": "code",
   "execution_count": 47,
   "metadata": {
    "collapsed": false
   },
   "outputs": [
    {
     "name": "stdout",
     "output_type": "stream",
     "text": [
      "        pp_sqft  is_high\n",
      "7441  32.965934        0\n",
      "7446  24.937782        0\n",
      "7447  78.085642        0\n",
      "7459  33.022862        0\n",
      "7460   2.770865        0\n"
     ]
    }
   ],
   "source": [
    "def above_median(value):\n",
    "    if value>=240:\n",
    "        return 1\n",
    "    else:\n",
    "        return 0\n",
    "df['is_high']=df['pp_sqft'].apply(above_median)\n",
    "\n",
    "print df[['pp_sqft','is_high']].tail()\n",
    "\n",
    "# df['is_high']=df[['pp_sqft']].apply(lambda x: 1 if (x>=220) else 0)\n",
    "# df[['is_high']]=df.loc[(df['pp_sqft']>=20),True]"
   ]
  },
  {
   "cell_type": "markdown",
   "metadata": {},
   "source": []
  },
  {
   "cell_type": "code",
   "execution_count": null,
   "metadata": {
    "collapsed": false
   },
   "outputs": [],
   "source": [
    "\n"
   ]
  },
  {
   "cell_type": "code",
   "execution_count": null,
   "metadata": {
    "collapsed": false
   },
   "outputs": [],
   "source": []
  },
  {
   "cell_type": "markdown",
   "metadata": {},
   "source": [
    "Now I have a target to predict, df[['is_high']], I will now try to find a model using various predictors to best fit my model, I will first make a model with kNearestNeighbors, and then try a model with LogisticRegression."
   ]
  },
  {
   "cell_type": "code",
   "execution_count": 48,
   "metadata": {
    "collapsed": false
   },
   "outputs": [
    {
     "name": "stdout",
     "output_type": "stream",
     "text": [
      "Index([u'address', u'bed_bath', u'more_info', u'price', u'status', u'zip_code',\n",
      "       u'house_num', u'st_direction', u'street', u'beds', u'baths', u'sqft',\n",
      "       u'int_price', u'Apartment For Sale', u'Auction', u'Co-op For Sale',\n",
      "       u'Coming Soon', u'Condo For Sale', u'For Sale by Owner', u'Foreclosure',\n",
      "       u'House For Sale', u'Lot/Land For Sale', u'Make Me Move®',\n",
      "       u'New Construction', u'Townhouse For Sale', u'pp_sqft', u'is_high',\n",
      "       u'Apartment For Sale_from_dummies', u'Auction_from_dummies',\n",
      "       u'Co-op For Sale_from_dummies', u'Coming Soon_from_dummies',\n",
      "       u'Condo For Sale_from_dummies', u'For Sale by Owner_from_dummies',\n",
      "       u'Foreclosure_from_dummies', u'House For Sale_from_dummies',\n",
      "       u'Lot/Land For Sale_from_dummies', u'Make Me Move®_from_dummies',\n",
      "       u'New Construction_from_dummies', u'Townhouse For Sale_from_dummies'],\n",
      "      dtype='object')\n",
      "                                    address                   bed_bath  \\\n",
      "0  360 E Randolph St # 601-602, Chicago, IL  3 bds · 4 ba · 2,700 sqft   \n",
      "1    8 E Randolph St UNIT 1006, Chicago, IL     1 bd · 1 ba · 850 sqft   \n",
      "3    340 E Randolph St APT 704, Chicago, IL  2 bds · 3 ba · 1,902 sqft   \n",
      "4  420 E Waterside Dr UNIT 310, Chicago, IL  2 bds · 3 ba · 1,500 sqft   \n",
      "5    155 N Harbor Dr # 1212-13, Chicago, IL  3 bds · 3 ba · 2,367 sqft   \n",
      "\n",
      "                                           more_info       price  \\\n",
      "0  http://www.zillow.com/homedetails/360-E-Randol...  $1,299,000   \n",
      "1  http://www.zillow.com/homedetails/8-E-Randolph...    $324,900   \n",
      "3  http://www.zillow.com/homedetails/340-E-Randol...  $1,099,000   \n",
      "4  http://www.zillow.com/homedetails/420-E-Waters...    $567,770   \n",
      "5  http://www.zillow.com/homedetails/155-N-Harbor...  $1,350,000   \n",
      "\n",
      "           status  zip_code  house_num st_direction     street  beds  \\\n",
      "0  Condo For Sale   60601.0      360.0            E   Randolph   3.0   \n",
      "1  Condo For Sale   60601.0        8.0            E   Randolph   1.0   \n",
      "3  Condo For Sale   60601.0      340.0            E   Randolph   2.0   \n",
      "4  Condo For Sale   60601.0      420.0            E  Waterside   2.0   \n",
      "5  Condo For Sale   60601.0      155.0            N     Harbor   3.0   \n",
      "\n",
      "                ...                 Co-op For Sale_from_dummies  \\\n",
      "0               ...                                           0   \n",
      "1               ...                                           0   \n",
      "3               ...                                           0   \n",
      "4               ...                                           0   \n",
      "5               ...                                           0   \n",
      "\n",
      "   Coming Soon_from_dummies  Condo For Sale_from_dummies  \\\n",
      "0                         0                            1   \n",
      "1                         0                            1   \n",
      "3                         0                            1   \n",
      "4                         0                            1   \n",
      "5                         0                            1   \n",
      "\n",
      "   For Sale by Owner_from_dummies  Foreclosure_from_dummies  \\\n",
      "0                               0                         0   \n",
      "1                               0                         0   \n",
      "3                               0                         0   \n",
      "4                               0                         0   \n",
      "5                               0                         0   \n",
      "\n",
      "   House For Sale_from_dummies  Lot/Land For Sale_from_dummies  \\\n",
      "0                            0                               0   \n",
      "1                            0                               0   \n",
      "3                            0                               0   \n",
      "4                            0                               0   \n",
      "5                            0                               0   \n",
      "\n",
      "   Make Me Move®_from_dummies  New Construction_from_dummies  \\\n",
      "0                           0                              0   \n",
      "1                           0                              0   \n",
      "3                           0                              0   \n",
      "4                           0                              0   \n",
      "5                           0                              0   \n",
      "\n",
      "   Townhouse For Sale_from_dummies  \n",
      "0                                0  \n",
      "1                                0  \n",
      "3                                0  \n",
      "4                                0  \n",
      "5                                0  \n",
      "\n",
      "[5 rows x 39 columns]\n"
     ]
    }
   ],
   "source": [
    "print df.columns\n",
    "print df.head()"
   ]
  },
  {
   "cell_type": "code",
   "execution_count": 82,
   "metadata": {
    "collapsed": false
   },
   "outputs": [
    {
     "ename": "ValueError",
     "evalue": "could not convert string to float: Wood",
     "output_type": "error",
     "traceback": [
      "\u001b[0;31m----------------------------------------------------------------------\u001b[0m",
      "\u001b[0;31mValueError\u001b[0m                           Traceback (most recent call last)",
      "\u001b[0;32m<ipython-input-82-bdb409d215f9>\u001b[0m in \u001b[0;36m<module>\u001b[0;34m()\u001b[0m\n\u001b[0;32m----> 1\u001b[0;31m \u001b[0mdf_std\u001b[0m\u001b[0;34m=\u001b[0m\u001b[0mStandardScaler\u001b[0m\u001b[0;34m(\u001b[0m\u001b[0;34m)\u001b[0m\u001b[0;34m.\u001b[0m\u001b[0mfit_transform\u001b[0m\u001b[0;34m(\u001b[0m\u001b[0mdf\u001b[0m\u001b[0;34m)\u001b[0m\u001b[0;34m\u001b[0m\u001b[0m\n\u001b[0m\u001b[1;32m      2\u001b[0m \u001b[0;34m\u001b[0m\u001b[0m\n\u001b[1;32m      3\u001b[0m x=df_std[[u'zip_code', u'house_num',\n\u001b[1;32m      4\u001b[0m         \u001b[0;34mu'beds'\u001b[0m\u001b[0;34m,\u001b[0m \u001b[0;34mu'baths'\u001b[0m\u001b[0;34m,\u001b[0m \u001b[0;34mu'sqft'\u001b[0m\u001b[0;34m,\u001b[0m\u001b[0;34m\u001b[0m\u001b[0m\n\u001b[1;32m      5\u001b[0m        \u001b[0;34mu'Apartment For Sale'\u001b[0m\u001b[0;34m,\u001b[0m \u001b[0;34mu'Auction'\u001b[0m\u001b[0;34m,\u001b[0m \u001b[0;34mu'Co-op For Sale'\u001b[0m\u001b[0;34m,\u001b[0m\u001b[0;34m\u001b[0m\u001b[0m\n",
      "\u001b[0;32m/Users/ariburian/anaconda2/lib/python2.7/site-packages/sklearn/base.pyc\u001b[0m in \u001b[0;36mfit_transform\u001b[0;34m(self, X, y, **fit_params)\u001b[0m\n\u001b[1;32m    492\u001b[0m         \u001b[0;32mif\u001b[0m \u001b[0my\u001b[0m \u001b[0;32mis\u001b[0m \u001b[0mNone\u001b[0m\u001b[0;34m:\u001b[0m\u001b[0;34m\u001b[0m\u001b[0m\n\u001b[1;32m    493\u001b[0m             \u001b[0;31m# fit method of arity 1 (unsupervised transformation)\u001b[0m\u001b[0;34m\u001b[0m\u001b[0;34m\u001b[0m\u001b[0m\n\u001b[0;32m--> 494\u001b[0;31m             \u001b[0;32mreturn\u001b[0m \u001b[0mself\u001b[0m\u001b[0;34m.\u001b[0m\u001b[0mfit\u001b[0m\u001b[0;34m(\u001b[0m\u001b[0mX\u001b[0m\u001b[0;34m,\u001b[0m \u001b[0;34m**\u001b[0m\u001b[0mfit_params\u001b[0m\u001b[0;34m)\u001b[0m\u001b[0;34m.\u001b[0m\u001b[0mtransform\u001b[0m\u001b[0;34m(\u001b[0m\u001b[0mX\u001b[0m\u001b[0;34m)\u001b[0m\u001b[0;34m\u001b[0m\u001b[0m\n\u001b[0m\u001b[1;32m    495\u001b[0m         \u001b[0;32melse\u001b[0m\u001b[0;34m:\u001b[0m\u001b[0;34m\u001b[0m\u001b[0m\n\u001b[1;32m    496\u001b[0m             \u001b[0;31m# fit method of arity 2 (supervised transformation)\u001b[0m\u001b[0;34m\u001b[0m\u001b[0;34m\u001b[0m\u001b[0m\n",
      "\u001b[0;32m/Users/ariburian/anaconda2/lib/python2.7/site-packages/sklearn/preprocessing/data.pyc\u001b[0m in \u001b[0;36mfit\u001b[0;34m(self, X, y)\u001b[0m\n\u001b[1;32m    558\u001b[0m         \u001b[0;31m# Reset internal state before fitting\u001b[0m\u001b[0;34m\u001b[0m\u001b[0;34m\u001b[0m\u001b[0m\n\u001b[1;32m    559\u001b[0m         \u001b[0mself\u001b[0m\u001b[0;34m.\u001b[0m\u001b[0m_reset\u001b[0m\u001b[0;34m(\u001b[0m\u001b[0;34m)\u001b[0m\u001b[0;34m\u001b[0m\u001b[0m\n\u001b[0;32m--> 560\u001b[0;31m         \u001b[0;32mreturn\u001b[0m \u001b[0mself\u001b[0m\u001b[0;34m.\u001b[0m\u001b[0mpartial_fit\u001b[0m\u001b[0;34m(\u001b[0m\u001b[0mX\u001b[0m\u001b[0;34m,\u001b[0m \u001b[0my\u001b[0m\u001b[0;34m)\u001b[0m\u001b[0;34m\u001b[0m\u001b[0m\n\u001b[0m\u001b[1;32m    561\u001b[0m \u001b[0;34m\u001b[0m\u001b[0m\n\u001b[1;32m    562\u001b[0m     \u001b[0;32mdef\u001b[0m \u001b[0mpartial_fit\u001b[0m\u001b[0;34m(\u001b[0m\u001b[0mself\u001b[0m\u001b[0;34m,\u001b[0m \u001b[0mX\u001b[0m\u001b[0;34m,\u001b[0m \u001b[0my\u001b[0m\u001b[0;34m=\u001b[0m\u001b[0mNone\u001b[0m\u001b[0;34m)\u001b[0m\u001b[0;34m:\u001b[0m\u001b[0;34m\u001b[0m\u001b[0m\n",
      "\u001b[0;32m/Users/ariburian/anaconda2/lib/python2.7/site-packages/sklearn/preprocessing/data.pyc\u001b[0m in \u001b[0;36mpartial_fit\u001b[0;34m(self, X, y)\u001b[0m\n\u001b[1;32m    581\u001b[0m         X = check_array(X, accept_sparse=('csr', 'csc'), copy=self.copy,\n\u001b[1;32m    582\u001b[0m                         \u001b[0mensure_2d\u001b[0m\u001b[0;34m=\u001b[0m\u001b[0mFalse\u001b[0m\u001b[0;34m,\u001b[0m \u001b[0mwarn_on_dtype\u001b[0m\u001b[0;34m=\u001b[0m\u001b[0mTrue\u001b[0m\u001b[0;34m,\u001b[0m\u001b[0;34m\u001b[0m\u001b[0m\n\u001b[0;32m--> 583\u001b[0;31m                         estimator=self, dtype=FLOAT_DTYPES)\n\u001b[0m\u001b[1;32m    584\u001b[0m \u001b[0;34m\u001b[0m\u001b[0m\n\u001b[1;32m    585\u001b[0m         \u001b[0;32mif\u001b[0m \u001b[0mX\u001b[0m\u001b[0;34m.\u001b[0m\u001b[0mndim\u001b[0m \u001b[0;34m==\u001b[0m \u001b[0;36m1\u001b[0m\u001b[0;34m:\u001b[0m\u001b[0;34m\u001b[0m\u001b[0m\n",
      "\u001b[0;32m/Users/ariburian/anaconda2/lib/python2.7/site-packages/sklearn/utils/validation.pyc\u001b[0m in \u001b[0;36mcheck_array\u001b[0;34m(array, accept_sparse, dtype, order, copy, force_all_finite, ensure_2d, allow_nd, ensure_min_samples, ensure_min_features, warn_on_dtype, estimator)\u001b[0m\n\u001b[1;32m    380\u001b[0m                                       force_all_finite)\n\u001b[1;32m    381\u001b[0m     \u001b[0;32melse\u001b[0m\u001b[0;34m:\u001b[0m\u001b[0;34m\u001b[0m\u001b[0m\n\u001b[0;32m--> 382\u001b[0;31m         \u001b[0marray\u001b[0m \u001b[0;34m=\u001b[0m \u001b[0mnp\u001b[0m\u001b[0;34m.\u001b[0m\u001b[0marray\u001b[0m\u001b[0;34m(\u001b[0m\u001b[0marray\u001b[0m\u001b[0;34m,\u001b[0m \u001b[0mdtype\u001b[0m\u001b[0;34m=\u001b[0m\u001b[0mdtype\u001b[0m\u001b[0;34m,\u001b[0m \u001b[0morder\u001b[0m\u001b[0;34m=\u001b[0m\u001b[0morder\u001b[0m\u001b[0;34m,\u001b[0m \u001b[0mcopy\u001b[0m\u001b[0;34m=\u001b[0m\u001b[0mcopy\u001b[0m\u001b[0;34m)\u001b[0m\u001b[0;34m\u001b[0m\u001b[0m\n\u001b[0m\u001b[1;32m    383\u001b[0m \u001b[0;34m\u001b[0m\u001b[0m\n\u001b[1;32m    384\u001b[0m         \u001b[0;32mif\u001b[0m \u001b[0mensure_2d\u001b[0m\u001b[0;34m:\u001b[0m\u001b[0;34m\u001b[0m\u001b[0m\n",
      "\u001b[0;31mValueError\u001b[0m: could not convert string to float: Wood"
     ]
    }
   ],
   "source": [
    "df_std=StandardScaler().fit_transform(df)\n",
    "\n",
    "x=df_std[[u'zip_code', u'house_num',\n",
    "        u'beds', u'baths', u'sqft',\n",
    "       u'Apartment For Sale', u'Auction', u'Co-op For Sale',\n",
    "       u'Coming Soon', u'Condo For Sale', u'For Sale by Owner', u'Foreclosure',\n",
    "       u'House For Sale', u'Lot/Land For Sale',\n",
    "       u'New Construction', u'Townhouse For Sale' ]]\n",
    "\n",
    "\n",
    "y=df_std[u'is_high']\n",
    "x_train, x_test, y_train, y_test = train_test_split(x,y,test_size=0.4)\n",
    "\n",
    "\n",
    "\n",
    "\n"
   ]
  },
  {
   "cell_type": "code",
   "execution_count": null,
   "metadata": {
    "collapsed": true
   },
   "outputs": [],
   "source": []
  },
  {
   "cell_type": "code",
   "execution_count": null,
   "metadata": {
    "collapsed": true
   },
   "outputs": [],
   "source": []
  },
  {
   "cell_type": "code",
   "execution_count": null,
   "metadata": {
    "collapsed": true
   },
   "outputs": [],
   "source": []
  },
  {
   "cell_type": "code",
   "execution_count": null,
   "metadata": {
    "collapsed": true
   },
   "outputs": [],
   "source": []
  },
  {
   "cell_type": "code",
   "execution_count": 50,
   "metadata": {
    "collapsed": true
   },
   "outputs": [],
   "source": [
    "knn=KNeighborsClassifier(n_neighbors=3)\n"
   ]
  },
  {
   "cell_type": "code",
   "execution_count": null,
   "metadata": {
    "collapsed": false
   },
   "outputs": [],
   "source": []
  },
  {
   "cell_type": "code",
   "execution_count": 76,
   "metadata": {
    "collapsed": false
   },
   "outputs": [
    {
     "ename": "ValueError",
     "evalue": "Input contains NaN, infinity or a value too large for dtype('float64').",
     "output_type": "error",
     "traceback": [
      "\u001b[0;31m----------------------------------------------------------------------\u001b[0m",
      "\u001b[0;31mValueError\u001b[0m                           Traceback (most recent call last)",
      "\u001b[0;32m<ipython-input-76-f70c5c983036>\u001b[0m in \u001b[0;36m<module>\u001b[0;34m()\u001b[0m\n\u001b[0;32m----> 1\u001b[0;31m \u001b[0mknn\u001b[0m\u001b[0;34m.\u001b[0m\u001b[0mfit\u001b[0m\u001b[0;34m(\u001b[0m\u001b[0mx_train\u001b[0m\u001b[0;34m,\u001b[0m\u001b[0my_train\u001b[0m\u001b[0;34m)\u001b[0m\u001b[0;34m\u001b[0m\u001b[0m\n\u001b[0m\u001b[1;32m      2\u001b[0m \u001b[0;32mprint\u001b[0m \u001b[0mknn\u001b[0m\u001b[0;34m.\u001b[0m\u001b[0mscore\u001b[0m\u001b[0;34m(\u001b[0m\u001b[0mx_train\u001b[0m\u001b[0;34m,\u001b[0m\u001b[0my_train\u001b[0m\u001b[0;34m)\u001b[0m\u001b[0;34m\u001b[0m\u001b[0m\n\u001b[1;32m      3\u001b[0m \u001b[0;32mprint\u001b[0m \u001b[0mknn\u001b[0m\u001b[0;34m.\u001b[0m\u001b[0mpredict\u001b[0m\u001b[0;34m(\u001b[0m\u001b[0mx_train\u001b[0m\u001b[0;34m)\u001b[0m\u001b[0;34m\u001b[0m\u001b[0m\n\u001b[1;32m      4\u001b[0m \u001b[0;32mprint\u001b[0m \u001b[0mknn\u001b[0m\u001b[0;34m.\u001b[0m\u001b[0mpredict_proba\u001b[0m\u001b[0;34m(\u001b[0m\u001b[0mx_train\u001b[0m\u001b[0;34m)\u001b[0m\u001b[0;34m\u001b[0m\u001b[0m\n",
      "\u001b[0;32m/Users/ariburian/anaconda2/lib/python2.7/site-packages/sklearn/neighbors/base.pyc\u001b[0m in \u001b[0;36mfit\u001b[0;34m(self, X, y)\u001b[0m\n\u001b[1;32m    759\u001b[0m         \"\"\"\n\u001b[1;32m    760\u001b[0m         \u001b[0;32mif\u001b[0m \u001b[0;32mnot\u001b[0m \u001b[0misinstance\u001b[0m\u001b[0;34m(\u001b[0m\u001b[0mX\u001b[0m\u001b[0;34m,\u001b[0m \u001b[0;34m(\u001b[0m\u001b[0mKDTree\u001b[0m\u001b[0;34m,\u001b[0m \u001b[0mBallTree\u001b[0m\u001b[0;34m)\u001b[0m\u001b[0;34m)\u001b[0m\u001b[0;34m:\u001b[0m\u001b[0;34m\u001b[0m\u001b[0m\n\u001b[0;32m--> 761\u001b[0;31m             \u001b[0mX\u001b[0m\u001b[0;34m,\u001b[0m \u001b[0my\u001b[0m \u001b[0;34m=\u001b[0m \u001b[0mcheck_X_y\u001b[0m\u001b[0;34m(\u001b[0m\u001b[0mX\u001b[0m\u001b[0;34m,\u001b[0m \u001b[0my\u001b[0m\u001b[0;34m,\u001b[0m \u001b[0;34m\"csr\"\u001b[0m\u001b[0;34m,\u001b[0m \u001b[0mmulti_output\u001b[0m\u001b[0;34m=\u001b[0m\u001b[0mTrue\u001b[0m\u001b[0;34m)\u001b[0m\u001b[0;34m\u001b[0m\u001b[0m\n\u001b[0m\u001b[1;32m    762\u001b[0m \u001b[0;34m\u001b[0m\u001b[0m\n\u001b[1;32m    763\u001b[0m         \u001b[0;32mif\u001b[0m \u001b[0my\u001b[0m\u001b[0;34m.\u001b[0m\u001b[0mndim\u001b[0m \u001b[0;34m==\u001b[0m \u001b[0;36m1\u001b[0m \u001b[0;32mor\u001b[0m \u001b[0my\u001b[0m\u001b[0;34m.\u001b[0m\u001b[0mndim\u001b[0m \u001b[0;34m==\u001b[0m \u001b[0;36m2\u001b[0m \u001b[0;32mand\u001b[0m \u001b[0my\u001b[0m\u001b[0;34m.\u001b[0m\u001b[0mshape\u001b[0m\u001b[0;34m[\u001b[0m\u001b[0;36m1\u001b[0m\u001b[0;34m]\u001b[0m \u001b[0;34m==\u001b[0m \u001b[0;36m1\u001b[0m\u001b[0;34m:\u001b[0m\u001b[0;34m\u001b[0m\u001b[0m\n",
      "\u001b[0;32m/Users/ariburian/anaconda2/lib/python2.7/site-packages/sklearn/utils/validation.pyc\u001b[0m in \u001b[0;36mcheck_X_y\u001b[0;34m(X, y, accept_sparse, dtype, order, copy, force_all_finite, ensure_2d, allow_nd, multi_output, ensure_min_samples, ensure_min_features, y_numeric, warn_on_dtype, estimator)\u001b[0m\n\u001b[1;32m    519\u001b[0m     X = check_array(X, accept_sparse, dtype, order, copy, force_all_finite,\n\u001b[1;32m    520\u001b[0m                     \u001b[0mensure_2d\u001b[0m\u001b[0;34m,\u001b[0m \u001b[0mallow_nd\u001b[0m\u001b[0;34m,\u001b[0m \u001b[0mensure_min_samples\u001b[0m\u001b[0;34m,\u001b[0m\u001b[0;34m\u001b[0m\u001b[0m\n\u001b[0;32m--> 521\u001b[0;31m                     ensure_min_features, warn_on_dtype, estimator)\n\u001b[0m\u001b[1;32m    522\u001b[0m     \u001b[0;32mif\u001b[0m \u001b[0mmulti_output\u001b[0m\u001b[0;34m:\u001b[0m\u001b[0;34m\u001b[0m\u001b[0m\n\u001b[1;32m    523\u001b[0m         y = check_array(y, 'csr', force_all_finite=True, ensure_2d=False,\n",
      "\u001b[0;32m/Users/ariburian/anaconda2/lib/python2.7/site-packages/sklearn/utils/validation.pyc\u001b[0m in \u001b[0;36mcheck_array\u001b[0;34m(array, accept_sparse, dtype, order, copy, force_all_finite, ensure_2d, allow_nd, ensure_min_samples, ensure_min_features, warn_on_dtype, estimator)\u001b[0m\n\u001b[1;32m    405\u001b[0m                              % (array.ndim, estimator_name))\n\u001b[1;32m    406\u001b[0m         \u001b[0;32mif\u001b[0m \u001b[0mforce_all_finite\u001b[0m\u001b[0;34m:\u001b[0m\u001b[0;34m\u001b[0m\u001b[0m\n\u001b[0;32m--> 407\u001b[0;31m             \u001b[0m_assert_all_finite\u001b[0m\u001b[0;34m(\u001b[0m\u001b[0marray\u001b[0m\u001b[0;34m)\u001b[0m\u001b[0;34m\u001b[0m\u001b[0m\n\u001b[0m\u001b[1;32m    408\u001b[0m \u001b[0;34m\u001b[0m\u001b[0m\n\u001b[1;32m    409\u001b[0m     \u001b[0mshape_repr\u001b[0m \u001b[0;34m=\u001b[0m \u001b[0m_shape_repr\u001b[0m\u001b[0;34m(\u001b[0m\u001b[0marray\u001b[0m\u001b[0;34m.\u001b[0m\u001b[0mshape\u001b[0m\u001b[0;34m)\u001b[0m\u001b[0;34m\u001b[0m\u001b[0m\n",
      "\u001b[0;32m/Users/ariburian/anaconda2/lib/python2.7/site-packages/sklearn/utils/validation.pyc\u001b[0m in \u001b[0;36m_assert_all_finite\u001b[0;34m(X)\u001b[0m\n\u001b[1;32m     56\u001b[0m             and not np.isfinite(X).all()):\n\u001b[1;32m     57\u001b[0m         raise ValueError(\"Input contains NaN, infinity\"\n\u001b[0;32m---> 58\u001b[0;31m                          \" or a value too large for %r.\" % X.dtype)\n\u001b[0m\u001b[1;32m     59\u001b[0m \u001b[0;34m\u001b[0m\u001b[0m\n\u001b[1;32m     60\u001b[0m \u001b[0;34m\u001b[0m\u001b[0m\n",
      "\u001b[0;31mValueError\u001b[0m: Input contains NaN, infinity or a value too large for dtype('float64')."
     ]
    }
   ],
   "source": [
    "knn.fit(x_train,y_train)\n",
    "print knn.score(x_train,y_train)\n",
    "print knn.predict(x_train)\n",
    "print knn.predict_proba(x_train)"
   ]
  },
  {
   "cell_type": "markdown",
   "metadata": {},
   "source": [
    "Now let's try a Logistic Regression"
   ]
  },
  {
   "cell_type": "markdown",
   "metadata": {},
   "source": [
    "First, I will made a seaborn heatmap and do a grid_search to look at the correlations between variables."
   ]
  },
  {
   "cell_type": "code",
   "execution_count": 51,
   "metadata": {
    "collapsed": false
   },
   "outputs": [
    {
     "data": {
      "text/plain": [
       "<matplotlib.axes._subplots.AxesSubplot at 0x1161fbf50>"
      ]
     },
     "execution_count": 51,
     "metadata": {},
     "output_type": "execute_result"
    },
    {
     "data": {
      "image/png": "[encoded data removed]",
      "text/plain": [
       "<matplotlib.figure.Figure at 0x112ac2710>"
      ]
     },
     "metadata": {},
     "output_type": "display_data"
    }
   ],
   "source": [
    "number_columns=df[[u'zip_code',u'house_num',\n",
    "        u'beds', u'baths', u'sqft',\n",
    "       u'Apartment For Sale', u'Auction', u'Co-op For Sale',\n",
    "       u'Coming Soon', u'Condo For Sale', u'For Sale by Owner', u'Foreclosure',\n",
    "       u'House For Sale', u'Lot/Land For Sale',\n",
    "       u'New Construction', u'Townhouse For Sale' ]]\n",
    "\n",
    "\n",
    "sns.heatmap(number_columns.corr(),annot=True)\n"
   ]
  },
  {
   "cell_type": "code",
   "execution_count": 73,
   "metadata": {
    "collapsed": false
   },
   "outputs": [],
   "source": [
    "lr=LogisticRegression()\n",
    "\n",
    "hyperparameters={'penalty':['l1','l2'], \n",
    "                'C': [0.01,1.0,10.0,100.0,1000.0]}\n",
    "\n",
    "grid_search=GridSearchCV(lr,hyperparameters,verbose=10)\n",
    "\n",
    "# lr.fit(number_columns,y)\n"
   ]
  },
  {
   "cell_type": "code",
   "execution_count": null,
   "metadata": {
    "collapsed": false
   },
   "outputs": [],
   "source": [
    "\n",
    "\n"
   ]
  },
  {
   "cell_type": "code",
   "execution_count": 74,
   "metadata": {
    "collapsed": false
   },
   "outputs": [],
   "source": [
    "x=df[[u'zip_code',u'house_num',\n",
    "        u'beds', u'baths', u'sqft',\n",
    "       u'Apartment For Sale', u'Auction', u'Co-op For Sale',\n",
    "       u'Coming Soon', u'Condo For Sale', u'For Sale by Owner', u'Foreclosure',\n",
    "       u'House For Sale', u'Lot/Land For Sale',\n",
    "       u'New Construction', u'Townhouse For Sale' ]]\n",
    "\n",
    "\n",
    "y=df[u'is_high']\n",
    "x_train, x_test, y_train, y_test = train_test_split(x,y,test_size=0.4)"
   ]
  },
  {
   "cell_type": "code",
   "execution_count": 75,
   "metadata": {
    "collapsed": false
   },
   "outputs": [
    {
     "name": "stdout",
     "output_type": "stream",
     "text": [
      "      zip_code  house_num  beds  baths        sqft  Apartment For Sale  \\\n",
      "3146   60625.0     4438.0   2.0    2.0  1804.49085                   0   \n",
      "4643   60637.0     7044.0   6.0    2.0  1764.00000                   1   \n",
      "5903   60647.0     2710.0   3.0    4.0  1344.00000                   0   \n",
      "2106   60617.0     8010.0   4.0    2.0  1800.00000                   0   \n",
      "4484   60636.0     5938.0   5.0    2.0  1804.49085                   1   \n",
      "\n",
      "      Auction  Co-op For Sale  Coming Soon  Condo For Sale  For Sale by Owner  \\\n",
      "3146        0               0            0               0                  0   \n",
      "4643        0               0            0               0                  0   \n",
      "5903        0               0            0               0                  0   \n",
      "2106        0               0            0               0                  0   \n",
      "4484        0               0            0               0                  0   \n",
      "\n",
      "      Foreclosure  House For Sale  Lot/Land For Sale  New Construction  \\\n",
      "3146            0               0                  0                 0   \n",
      "4643            0               0                  0                 0   \n",
      "5903            0               1                  0                 0   \n",
      "2106            0               1                  0                 0   \n",
      "4484            0               0                  0                 0   \n",
      "\n",
      "      Townhouse For Sale  \n",
      "3146                   1  \n",
      "4643                   0  \n",
      "5903                   0  \n",
      "2106                   0  \n",
      "4484                   0  \n",
      "3146    0\n",
      "4643    0\n",
      "5903    1\n",
      "2106    0\n",
      "4484    0\n",
      "Name: is_high, dtype: int64\n",
      "Fitting 3 folds for each of 10 candidates, totalling 30 fits\n",
      "[CV] penalty=l1, C=0.01 ..............................................\n",
      "[CV] ..................... penalty=l1, C=0.01, score=0.663959 -   0.0s\n",
      "[CV] penalty=l1, C=0.01 ..............................................\n",
      "[CV] ..................... penalty=l1, C=0.01, score=0.794924 -   0.0s\n",
      "[CV] penalty=l1, C=0.01 ..............................................\n",
      "[CV] ..................... penalty=l1, C=0.01, score=0.661929 -   0.0s\n",
      "[CV] penalty=l2, C=0.01 ..............................................\n",
      "[CV] ..................... penalty=l2, C=0.01, score=0.615228 -   0.0s\n",
      "[CV] penalty=l2, C=0.01 ..............................................\n",
      "[CV] ..................... penalty=l2, C=0.01, score=0.752284 -   0.0s\n",
      "[CV] penalty=l2, C=0.01 ..............................................\n",
      "[CV] ..................... penalty=l2, C=0.01, score=0.613198 -   0.0s\n",
      "[CV] penalty=l1, C=1.0 ...............................................\n",
      "[CV] ...................... penalty=l1, C=1.0, score=0.723858 -   0.0s\n",
      "[CV] penalty=l1, C=1.0 ...............................................\n",
      "[CV] ...................... penalty=l1, C=1.0, score=0.817259 -   0.0s\n",
      "[CV] penalty=l1, C=1.0 ...............................................\n",
      "[CV] ...................... penalty=l1, C=1.0, score=0.742132 -   0.0s\n",
      "[CV] penalty=l2, C=1.0 ...............................................\n",
      "[CV] ...................... penalty=l2, C=1.0, score=0.615228 -   0.0s\n",
      "[CV] penalty=l2, C=1.0 ...............................................\n",
      "[CV] ...................... penalty=l2, C=1.0, score=0.752284 -   0.0s\n",
      "[CV] penalty=l2, C=1.0 ...............................................\n",
      "[CV] ...................... penalty=l2, C=1.0, score=0.613198 -   0.0s\n",
      "[CV] penalty=l1, C=10.0 ..............................................\n"
     ]
    },
    {
     "name": "stderr",
     "output_type": "stream",
     "text": [
      "[Parallel(n_jobs=1)]: Done   1 out of   1 | elapsed:    0.0s remaining:    0.0s\n",
      "[Parallel(n_jobs=1)]: Done   2 out of   2 | elapsed:    0.0s remaining:    0.0s\n",
      "[Parallel(n_jobs=1)]: Done   3 out of   3 | elapsed:    0.1s remaining:    0.0s\n",
      "[Parallel(n_jobs=1)]: Done   4 out of   4 | elapsed:    0.1s remaining:    0.0s\n",
      "[Parallel(n_jobs=1)]: Done   5 out of   5 | elapsed:    0.1s remaining:    0.0s\n",
      "[Parallel(n_jobs=1)]: Done   6 out of   6 | elapsed:    0.1s remaining:    0.0s\n",
      "[Parallel(n_jobs=1)]: Done   7 out of   7 | elapsed:    0.1s remaining:    0.0s\n",
      "[Parallel(n_jobs=1)]: Done   8 out of   8 | elapsed:    0.1s remaining:    0.0s\n",
      "[Parallel(n_jobs=1)]: Done   9 out of   9 | elapsed:    0.2s remaining:    0.0s\n"
     ]
    },
    {
     "name": "stdout",
     "output_type": "stream",
     "text": [
      "[CV] ..................... penalty=l1, C=10.0, score=0.732995 -   0.0s\n",
      "[CV] penalty=l1, C=10.0 ..............................................\n",
      "[CV] ..................... penalty=l1, C=10.0, score=0.820305 -   0.1s\n",
      "[CV] penalty=l1, C=10.0 ..............................................\n",
      "[CV] ..................... penalty=l1, C=10.0, score=0.740102 -   0.0s\n",
      "[CV] penalty=l2, C=10.0 ..............................................\n",
      "[CV] ..................... penalty=l2, C=10.0, score=0.615228 -   0.0s\n",
      "[CV] penalty=l2, C=10.0 ..............................................\n",
      "[CV] ..................... penalty=l2, C=10.0, score=0.752284 -   0.0s\n",
      "[CV] penalty=l2, C=10.0 ..............................................\n",
      "[CV] ..................... penalty=l2, C=10.0, score=0.613198 -   0.0s\n",
      "[CV] penalty=l1, C=100.0 .............................................\n",
      "[CV] .................... penalty=l1, C=100.0, score=0.734010 -   0.0s\n",
      "[CV] penalty=l1, C=100.0 .............................................\n",
      "[CV] .................... penalty=l1, C=100.0, score=0.821320 -   0.0s\n",
      "[CV] penalty=l1, C=100.0 .............................................\n",
      "[CV] .................... penalty=l1, C=100.0, score=0.741117 -   0.0s\n",
      "[CV] penalty=l2, C=100.0 .............................................\n",
      "[CV] .................... penalty=l2, C=100.0, score=0.615228 -   0.0s\n",
      "[CV] penalty=l2, C=100.0 .............................................\n",
      "[CV] .................... penalty=l2, C=100.0, score=0.752284 -   0.0s\n",
      "[CV] penalty=l2, C=100.0 .............................................\n",
      "[CV] .................... penalty=l2, C=100.0, score=0.613198 -   0.0s\n",
      "[CV] penalty=l1, C=1000.0 ............................................\n",
      "[CV] ................... penalty=l1, C=1000.0, score=0.732995 -   0.0s\n",
      "[CV] penalty=l1, C=1000.0 ............................................\n",
      "[CV] ................... penalty=l1, C=1000.0, score=0.821320 -   0.0s\n",
      "[CV] penalty=l1, C=1000.0 ............................................\n",
      "[CV] ................... penalty=l1, C=1000.0, score=0.739086 -   0.0s\n",
      "[CV] penalty=l2, C=1000.0 ............................................\n",
      "[CV] ................... penalty=l2, C=1000.0, score=0.615228 -   0.0s\n",
      "[CV] penalty=l2, C=1000.0 ............................................\n",
      "[CV] ................... penalty=l2, C=1000.0, score=0.752284 -   0.0s\n",
      "[CV] penalty=l2, C=1000.0 ............................................\n",
      "[CV] ................... penalty=l2, C=1000.0, score=0.613198 -   0.0s\n"
     ]
    },
    {
     "name": "stderr",
     "output_type": "stream",
     "text": [
      "[Parallel(n_jobs=1)]: Done  30 out of  30 | elapsed:    0.7s finished\n"
     ]
    },
    {
     "data": {
      "text/plain": [
       "GridSearchCV(cv=None, error_score='raise',\n",
       "       estimator=LogisticRegression(C=1.0, class_weight=None, dual=False, fit_intercept=True,\n",
       "          intercept_scaling=1, max_iter=100, multi_class='ovr', n_jobs=1,\n",
       "          penalty='l2', random_state=None, solver='liblinear', tol=0.0001,\n",
       "          verbose=0, warm_start=False),\n",
       "       fit_params={}, iid=True, n_jobs=1,\n",
       "       param_grid={'penalty': ['l1', 'l2'], 'C': [0.01, 1.0, 10.0, 100.0, 1000.0]},\n",
       "       pre_dispatch='2*n_jobs', refit=True, scoring=None, verbose=10)"
      ]
     },
     "execution_count": 75,
     "metadata": {},
     "output_type": "execute_result"
    }
   ],
   "source": [
    "#grid_search.fit(x_train,y_train)\n",
    "print x_train[0:5]\n",
    "print y_train[0:5]\n",
    "grid_search.fit(x_train,y_train)"
   ]
  },
  {
   "cell_type": "code",
   "execution_count": 76,
   "metadata": {
    "collapsed": false
   },
   "outputs": [
    {
     "data": {
      "text/plain": [
       "LogisticRegression(C=100.0, class_weight=None, dual=False, fit_intercept=True,\n",
       "          intercept_scaling=1, max_iter=100, multi_class='ovr', n_jobs=1,\n",
       "          penalty='l1', random_state=None, solver='liblinear', tol=0.0001,\n",
       "          verbose=0, warm_start=False)"
      ]
     },
     "execution_count": 76,
     "metadata": {},
     "output_type": "execute_result"
    }
   ],
   "source": [
    "grid_search.best_estimator_.fit(x_train,y_train)"
   ]
  },
  {
   "cell_type": "code",
   "execution_count": 77,
   "metadata": {
    "collapsed": false
   },
   "outputs": [
    {
     "data": {
      "text/plain": [
       "0.75329949238578675"
      ]
     },
     "execution_count": 77,
     "metadata": {},
     "output_type": "execute_result"
    }
   ],
   "source": [
    "grid_search.best_estimator_.score(x_train,y_train)"
   ]
  },
  {
   "cell_type": "code",
   "execution_count": 79,
   "metadata": {
    "collapsed": false
   },
   "outputs": [],
   "source": [
    "lasso_lr=LogisticRegression(penalty='l1',C=100.0)"
   ]
  },
  {
   "cell_type": "code",
   "execution_count": 80,
   "metadata": {
    "collapsed": false
   },
   "outputs": [
    {
     "data": {
      "text/plain": [
       "LogisticRegression(C=100.0, class_weight=None, dual=False, fit_intercept=True,\n",
       "          intercept_scaling=1, max_iter=100, multi_class='ovr', n_jobs=1,\n",
       "          penalty='l1', random_state=None, solver='liblinear', tol=0.0001,\n",
       "          verbose=0, warm_start=False)"
      ]
     },
     "execution_count": 80,
     "metadata": {},
     "output_type": "execute_result"
    }
   ],
   "source": [
    "lasso_lr.fit(x_train,y_train)"
   ]
  },
  {
   "cell_type": "code",
   "execution_count": 81,
   "metadata": {
    "collapsed": false
   },
   "outputs": [
    {
     "data": {
      "text/plain": [
       "0.75329949238578675"
      ]
     },
     "execution_count": 81,
     "metadata": {},
     "output_type": "execute_result"
    }
   ],
   "source": [
    "lasso_lr.score(x_train,y_train)"
   ]
  },
  {
   "cell_type": "code",
   "execution_count": null,
   "metadata": {
    "collapsed": true
   },
   "outputs": [],
   "source": []
  }
 ],
 "metadata": {
  "kernelspec": {
   "display_name": "Python 2",
   "language": "python",
   "name": "python2"
  },
  "language_info": {
   "codemirror_mode": {
    "name": "ipython",
    "version": 2
   },
   "file_extension": ".py",
   "mimetype": "text/x-python",
   "name": "python",
   "nbconvert_exporter": "python",
   "pygments_lexer": "ipython2",
   "version": "2.7.13"
  }
 },
 "nbformat": 4,
 "nbformat_minor": 2
}
